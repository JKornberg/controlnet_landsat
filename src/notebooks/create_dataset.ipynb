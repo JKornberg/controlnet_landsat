{
 "cells": [
  {
   "cell_type": "code",
   "execution_count": 3,
   "metadata": {},
   "outputs": [
    {
     "name": "stdout",
     "output_type": "stream",
     "text": [
      "The autoreload extension is already loaded. To reload it, use:\n",
      "  %reload_ext autoreload\n"
     ]
    }
   ],
   "source": [
    "%load_ext autoreload\n",
    "%autoreload 2\n",
    "from datasets import Dataset, Image, load_dataset, load_from_disk\n",
    "import os\n",
    "from transformers import pipeline\n",
    "import tqdm\n",
    "import numpy as np\n",
    "import sys\n",
    "sys.path.append(\"..\")\n",
    "from utils.data_utils import make_hf_dataset"
   ]
  },
  {
   "cell_type": "code",
   "execution_count": 4,
   "metadata": {},
   "outputs": [
    {
     "name": "stdout",
     "output_type": "stream",
     "text": [
      "Saving dset to disk...\n"
     ]
    },
    {
     "name": "stderr",
     "output_type": "stream",
     "text": [
      "Saving the dataset (1/1 shards): 100%|██████████| 9076/9076 [01:15<00:00, 120.83 examples/s]\n"
     ]
    }
   ],
   "source": [
    "dataset = make_hf_dataset(input_folder='../../data/landsat/inputs', target_folder='../../data/landsat/targets',\n",
    "                          masks_folder='../../data/landsat/masks',\n",
    "                           save_to_disk=True, dset_location='../../data/landsat/dset.hf')"
   ]
  },
  {
   "cell_type": "code",
   "execution_count": 4,
   "metadata": {},
   "outputs": [],
   "source": [
    "dataset = load_from_disk('../../data/landsat/dset.hf')"
   ]
  },
  {
   "cell_type": "code",
   "execution_count": 5,
   "metadata": {},
   "outputs": [
    {
     "name": "stderr",
     "output_type": "stream",
     "text": [
      "Map: 100%|██████████| 9076/9076 [00:10<00:00, 902.94 examples/s]/s]\n",
      "Creating parquet from Arrow format: 100%|██████████| 91/91 [00:00<00:00, 304.18ba/s]\n",
      "Uploading the dataset shards: 100%|██████████| 1/1 [04:10<00:00, 250.69s/it]\n"
     ]
    }
   ],
   "source": [
    "dataset.push_to_hub(f\"Kornberg/landsat_captions\", token=os.environ['HF_ACCESS_TOKEN'])"
   ]
  },
  {
   "cell_type": "code",
   "execution_count": null,
   "metadata": {},
   "outputs": [],
   "source": []
  }
 ],
 "metadata": {
  "kernelspec": {
   "display_name": "cn",
   "language": "python",
   "name": "python3"
  },
  "language_info": {
   "codemirror_mode": {
    "name": "ipython",
    "version": 3
   },
   "file_extension": ".py",
   "mimetype": "text/x-python",
   "name": "python",
   "nbconvert_exporter": "python",
   "pygments_lexer": "ipython3",
   "version": "3.9.18"
  }
 },
 "nbformat": 4,
 "nbformat_minor": 2
}
